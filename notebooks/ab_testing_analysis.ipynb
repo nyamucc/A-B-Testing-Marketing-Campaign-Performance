{
 "cells": [
  {
   "cell_type": "markdown",
   "id": "ef4f12f4",
   "metadata": {},
   "source": [
    "### Import Libraries"
   ]
  },
  {
   "cell_type": "code",
   "execution_count": 1,
   "id": "a28fab28",
   "metadata": {},
   "outputs": [],
   "source": [
    "import pandas as pd\n",
    "import numpy as np\n",
    "import matplotlib.pyplot as plt\n",
    "import seaborn as sns\n",
    "from scipy import stats\n"
   ]
  },
  {
   "cell_type": "markdown",
   "id": "d47b0742",
   "metadata": {},
   "source": [
    "### Loading dataset"
   ]
  },
  {
   "cell_type": "code",
   "execution_count": 2,
   "id": "59c593e1",
   "metadata": {},
   "outputs": [],
   "source": [
    "control = pd.read_csv(\"data/control_group.csv\", sep=';')\n",
    "test = pd.read_csv(\"data/test_group.csv\", sep=';')\n",
    "\n"
   ]
  },
  {
   "cell_type": "markdown",
   "id": "904f9cf1",
   "metadata": {},
   "source": [
    "### Data Previewing and Cleaning"
   ]
  },
  {
   "cell_type": "code",
   "execution_count": 3,
   "id": "92d90d7c",
   "metadata": {},
   "outputs": [
    {
     "name": "stdout",
     "output_type": "stream",
     "text": [
      "(30, 10)\n",
      "(30, 10)\n"
     ]
    }
   ],
   "source": [
    "print(control.shape)\n",
    "print(test.shape)\n",
    "\n",
    "#control.head()\n",
    "#test.head()\n",
    "\n",
    "#control.info()\n",
    "#test.info()\n"
   ]
  },
  {
   "cell_type": "code",
   "execution_count": 4,
   "id": "71f7b4e7",
   "metadata": {},
   "outputs": [
    {
     "data": {
      "text/plain": [
       "Campaign Name          0\n",
       "Date                   0\n",
       "Spend [USD]            0\n",
       "# of Impressions       0\n",
       "Reach                  0\n",
       "# of Website Clicks    0\n",
       "# of Searches          0\n",
       "# of View Content      0\n",
       "# of Add to Cart       0\n",
       "# of Purchase          0\n",
       "dtype: int64"
      ]
     },
     "execution_count": 4,
     "metadata": {},
     "output_type": "execute_result"
    }
   ],
   "source": [
    "\n",
    "control.isnull().sum()\n",
    "test.isnull().sum()\n"
   ]
  },
  {
   "cell_type": "code",
   "execution_count": 5,
   "id": "dbc26ad7",
   "metadata": {},
   "outputs": [
    {
     "data": {
      "text/html": [
       "<div>\n",
       "<style scoped>\n",
       "    .dataframe tbody tr th:only-of-type {\n",
       "        vertical-align: middle;\n",
       "    }\n",
       "\n",
       "    .dataframe tbody tr th {\n",
       "        vertical-align: top;\n",
       "    }\n",
       "\n",
       "    .dataframe thead th {\n",
       "        text-align: right;\n",
       "    }\n",
       "</style>\n",
       "<table border=\"1\" class=\"dataframe\">\n",
       "  <thead>\n",
       "    <tr style=\"text-align: right;\">\n",
       "      <th></th>\n",
       "      <th>Spend [USD]</th>\n",
       "      <th># of Impressions</th>\n",
       "      <th>Reach</th>\n",
       "      <th># of Website Clicks</th>\n",
       "      <th># of Searches</th>\n",
       "      <th># of View Content</th>\n",
       "      <th># of Add to Cart</th>\n",
       "      <th># of Purchase</th>\n",
       "    </tr>\n",
       "  </thead>\n",
       "  <tbody>\n",
       "    <tr>\n",
       "      <th>count</th>\n",
       "      <td>30.000000</td>\n",
       "      <td>30.000000</td>\n",
       "      <td>30.000000</td>\n",
       "      <td>30.000000</td>\n",
       "      <td>30.000000</td>\n",
       "      <td>30.000000</td>\n",
       "      <td>30.000000</td>\n",
       "      <td>30.000000</td>\n",
       "    </tr>\n",
       "    <tr>\n",
       "      <th>mean</th>\n",
       "      <td>2563.066667</td>\n",
       "      <td>74584.800000</td>\n",
       "      <td>53491.566667</td>\n",
       "      <td>6032.333333</td>\n",
       "      <td>2418.966667</td>\n",
       "      <td>1858.000000</td>\n",
       "      <td>881.533333</td>\n",
       "      <td>521.233333</td>\n",
       "    </tr>\n",
       "    <tr>\n",
       "      <th>std</th>\n",
       "      <td>348.687681</td>\n",
       "      <td>32121.377422</td>\n",
       "      <td>28795.775752</td>\n",
       "      <td>1708.567263</td>\n",
       "      <td>388.742312</td>\n",
       "      <td>597.654669</td>\n",
       "      <td>347.584248</td>\n",
       "      <td>211.047745</td>\n",
       "    </tr>\n",
       "    <tr>\n",
       "      <th>min</th>\n",
       "      <td>1968.000000</td>\n",
       "      <td>22521.000000</td>\n",
       "      <td>10598.000000</td>\n",
       "      <td>3038.000000</td>\n",
       "      <td>1854.000000</td>\n",
       "      <td>858.000000</td>\n",
       "      <td>278.000000</td>\n",
       "      <td>238.000000</td>\n",
       "    </tr>\n",
       "    <tr>\n",
       "      <th>25%</th>\n",
       "      <td>2324.500000</td>\n",
       "      <td>47541.250000</td>\n",
       "      <td>31516.250000</td>\n",
       "      <td>4407.000000</td>\n",
       "      <td>2043.000000</td>\n",
       "      <td>1320.000000</td>\n",
       "      <td>582.500000</td>\n",
       "      <td>298.000000</td>\n",
       "    </tr>\n",
       "    <tr>\n",
       "      <th>50%</th>\n",
       "      <td>2584.000000</td>\n",
       "      <td>68853.500000</td>\n",
       "      <td>44219.500000</td>\n",
       "      <td>6242.500000</td>\n",
       "      <td>2395.500000</td>\n",
       "      <td>1881.000000</td>\n",
       "      <td>974.000000</td>\n",
       "      <td>500.000000</td>\n",
       "    </tr>\n",
       "    <tr>\n",
       "      <th>75%</th>\n",
       "      <td>2836.250000</td>\n",
       "      <td>99500.000000</td>\n",
       "      <td>78778.750000</td>\n",
       "      <td>7604.750000</td>\n",
       "      <td>2801.250000</td>\n",
       "      <td>2412.000000</td>\n",
       "      <td>1148.500000</td>\n",
       "      <td>701.000000</td>\n",
       "    </tr>\n",
       "    <tr>\n",
       "      <th>max</th>\n",
       "      <td>3112.000000</td>\n",
       "      <td>133771.000000</td>\n",
       "      <td>109834.000000</td>\n",
       "      <td>8264.000000</td>\n",
       "      <td>2978.000000</td>\n",
       "      <td>2801.000000</td>\n",
       "      <td>1391.000000</td>\n",
       "      <td>890.000000</td>\n",
       "    </tr>\n",
       "  </tbody>\n",
       "</table>\n",
       "</div>"
      ],
      "text/plain": [
       "       Spend [USD]  # of Impressions          Reach  # of Website Clicks  \\\n",
       "count    30.000000         30.000000      30.000000            30.000000   \n",
       "mean   2563.066667      74584.800000   53491.566667          6032.333333   \n",
       "std     348.687681      32121.377422   28795.775752          1708.567263   \n",
       "min    1968.000000      22521.000000   10598.000000          3038.000000   \n",
       "25%    2324.500000      47541.250000   31516.250000          4407.000000   \n",
       "50%    2584.000000      68853.500000   44219.500000          6242.500000   \n",
       "75%    2836.250000      99500.000000   78778.750000          7604.750000   \n",
       "max    3112.000000     133771.000000  109834.000000          8264.000000   \n",
       "\n",
       "       # of Searches  # of View Content  # of Add to Cart  # of Purchase  \n",
       "count      30.000000          30.000000         30.000000      30.000000  \n",
       "mean     2418.966667        1858.000000        881.533333     521.233333  \n",
       "std       388.742312         597.654669        347.584248     211.047745  \n",
       "min      1854.000000         858.000000        278.000000     238.000000  \n",
       "25%      2043.000000        1320.000000        582.500000     298.000000  \n",
       "50%      2395.500000        1881.000000        974.000000     500.000000  \n",
       "75%      2801.250000        2412.000000       1148.500000     701.000000  \n",
       "max      2978.000000        2801.000000       1391.000000     890.000000  "
      ]
     },
     "execution_count": 5,
     "metadata": {},
     "output_type": "execute_result"
    }
   ],
   "source": [
    "test.describe()"
   ]
  },
  {
   "cell_type": "code",
   "execution_count": 6,
   "id": "c682039b",
   "metadata": {},
   "outputs": [
    {
     "data": {
      "text/html": [
       "<div>\n",
       "<style scoped>\n",
       "    .dataframe tbody tr th:only-of-type {\n",
       "        vertical-align: middle;\n",
       "    }\n",
       "\n",
       "    .dataframe tbody tr th {\n",
       "        vertical-align: top;\n",
       "    }\n",
       "\n",
       "    .dataframe thead th {\n",
       "        text-align: right;\n",
       "    }\n",
       "</style>\n",
       "<table border=\"1\" class=\"dataframe\">\n",
       "  <thead>\n",
       "    <tr style=\"text-align: right;\">\n",
       "      <th></th>\n",
       "      <th>Spend [USD]</th>\n",
       "      <th># of Impressions</th>\n",
       "      <th>Reach</th>\n",
       "      <th># of Website Clicks</th>\n",
       "      <th># of Searches</th>\n",
       "      <th># of View Content</th>\n",
       "      <th># of Add to Cart</th>\n",
       "      <th># of Purchase</th>\n",
       "    </tr>\n",
       "  </thead>\n",
       "  <tbody>\n",
       "    <tr>\n",
       "      <th>count</th>\n",
       "      <td>30.000000</td>\n",
       "      <td>29.000000</td>\n",
       "      <td>29.000000</td>\n",
       "      <td>29.000000</td>\n",
       "      <td>29.000000</td>\n",
       "      <td>29.000000</td>\n",
       "      <td>29.000000</td>\n",
       "      <td>29.000000</td>\n",
       "    </tr>\n",
       "    <tr>\n",
       "      <th>mean</th>\n",
       "      <td>2288.433333</td>\n",
       "      <td>109559.758621</td>\n",
       "      <td>88844.931034</td>\n",
       "      <td>5320.793103</td>\n",
       "      <td>2221.310345</td>\n",
       "      <td>1943.793103</td>\n",
       "      <td>1300.000000</td>\n",
       "      <td>522.793103</td>\n",
       "    </tr>\n",
       "    <tr>\n",
       "      <th>std</th>\n",
       "      <td>367.334451</td>\n",
       "      <td>21688.922908</td>\n",
       "      <td>21832.349595</td>\n",
       "      <td>1757.369003</td>\n",
       "      <td>866.089368</td>\n",
       "      <td>777.545469</td>\n",
       "      <td>407.457973</td>\n",
       "      <td>185.028642</td>\n",
       "    </tr>\n",
       "    <tr>\n",
       "      <th>min</th>\n",
       "      <td>1757.000000</td>\n",
       "      <td>71274.000000</td>\n",
       "      <td>42859.000000</td>\n",
       "      <td>2277.000000</td>\n",
       "      <td>1001.000000</td>\n",
       "      <td>848.000000</td>\n",
       "      <td>442.000000</td>\n",
       "      <td>222.000000</td>\n",
       "    </tr>\n",
       "    <tr>\n",
       "      <th>25%</th>\n",
       "      <td>1945.500000</td>\n",
       "      <td>92029.000000</td>\n",
       "      <td>74192.000000</td>\n",
       "      <td>4085.000000</td>\n",
       "      <td>1615.000000</td>\n",
       "      <td>1249.000000</td>\n",
       "      <td>930.000000</td>\n",
       "      <td>372.000000</td>\n",
       "    </tr>\n",
       "    <tr>\n",
       "      <th>50%</th>\n",
       "      <td>2299.500000</td>\n",
       "      <td>113430.000000</td>\n",
       "      <td>91579.000000</td>\n",
       "      <td>5224.000000</td>\n",
       "      <td>2390.000000</td>\n",
       "      <td>1984.000000</td>\n",
       "      <td>1339.000000</td>\n",
       "      <td>501.000000</td>\n",
       "    </tr>\n",
       "    <tr>\n",
       "      <th>75%</th>\n",
       "      <td>2532.000000</td>\n",
       "      <td>121332.000000</td>\n",
       "      <td>102479.000000</td>\n",
       "      <td>6628.000000</td>\n",
       "      <td>2711.000000</td>\n",
       "      <td>2421.000000</td>\n",
       "      <td>1641.000000</td>\n",
       "      <td>670.000000</td>\n",
       "    </tr>\n",
       "    <tr>\n",
       "      <th>max</th>\n",
       "      <td>3083.000000</td>\n",
       "      <td>145248.000000</td>\n",
       "      <td>127852.000000</td>\n",
       "      <td>8137.000000</td>\n",
       "      <td>4891.000000</td>\n",
       "      <td>4219.000000</td>\n",
       "      <td>1913.000000</td>\n",
       "      <td>800.000000</td>\n",
       "    </tr>\n",
       "  </tbody>\n",
       "</table>\n",
       "</div>"
      ],
      "text/plain": [
       "       Spend [USD]  # of Impressions          Reach  # of Website Clicks  \\\n",
       "count    30.000000         29.000000      29.000000            29.000000   \n",
       "mean   2288.433333     109559.758621   88844.931034          5320.793103   \n",
       "std     367.334451      21688.922908   21832.349595          1757.369003   \n",
       "min    1757.000000      71274.000000   42859.000000          2277.000000   \n",
       "25%    1945.500000      92029.000000   74192.000000          4085.000000   \n",
       "50%    2299.500000     113430.000000   91579.000000          5224.000000   \n",
       "75%    2532.000000     121332.000000  102479.000000          6628.000000   \n",
       "max    3083.000000     145248.000000  127852.000000          8137.000000   \n",
       "\n",
       "       # of Searches  # of View Content  # of Add to Cart  # of Purchase  \n",
       "count      29.000000          29.000000         29.000000      29.000000  \n",
       "mean     2221.310345        1943.793103       1300.000000     522.793103  \n",
       "std       866.089368         777.545469        407.457973     185.028642  \n",
       "min      1001.000000         848.000000        442.000000     222.000000  \n",
       "25%      1615.000000        1249.000000        930.000000     372.000000  \n",
       "50%      2390.000000        1984.000000       1339.000000     501.000000  \n",
       "75%      2711.000000        2421.000000       1641.000000     670.000000  \n",
       "max      4891.000000        4219.000000       1913.000000     800.000000  "
      ]
     },
     "execution_count": 6,
     "metadata": {},
     "output_type": "execute_result"
    }
   ],
   "source": [
    "\n",
    "control.describe()"
   ]
  },
  {
   "cell_type": "markdown",
   "id": "8d7747de",
   "metadata": {},
   "source": [
    "### comparison of Control and test data"
   ]
  },
  {
   "cell_type": "markdown",
   "id": "d94b3aa1",
   "metadata": {},
   "source": [
    "| Metric             | Control Mean | Test Mean | 💡 Insight                                                                       |\n",
    "| ------------------ | ------------ | --------- | -------------------------------------------------------------------------------- |\n",
    "| **Spend \\[USD]**   | 2,563        | 2,288     | Test spent **\\~11% less** on average — cost-efficient.                           |\n",
    "| **Impressions**    | 74,585       | 109,560   | Test got **\\~47% more impressions** — great reach per \\$ spent.                  |\n",
    "| **Reach**          | 53,492       | 88,845    | Reach also much higher (\\~66%) — test clearly more visible.                      |\n",
    "| **Website Clicks** | 6,032        | 5,321     | Control had **higher clicks**, despite less reach — may indicate **better CTR**. |\n",
    "| **Searches**       | 2,419        | 2,221     | Control slightly better — clickers more engaged.                                 |\n",
    "| **View Content**   | 1,858        | 1,944     | Test slightly better — **stronger interest** after landing.                      |\n",
    "| **Add to Cart**    | 882          | 1,300     | 🚀 Big win for test — **47% more** items added to cart.                          |\n",
    "| **Purchases**      | 521          | 523       | Almost identical purchase levels.                                                |\n"
   ]
  },
  {
   "cell_type": "markdown",
   "id": "b45c4641",
   "metadata": {},
   "source": [
    "### Calculating Key Metrics"
   ]
  },
  {
   "cell_type": "code",
   "execution_count": 7,
   "id": "54ac7bb3",
   "metadata": {},
   "outputs": [],
   "source": [
    "# Add CTR (Click-through Rate)\n",
    "control[\"CTR\"] = control[\"# of Website Clicks\"] / control[\"# of Impressions\"]\n",
    "test[\"CTR\"] = test[\"# of Website Clicks\"] / test[\"# of Impressions\"]\n",
    "\n",
    "# Add Conversion Rate\n",
    "control[\"Conversion Rate\"] = control[\"# of Purchase\"] / control[\"# of Website Clicks\"]\n",
    "test[\"Conversion Rate\"] = test[\"# of Purchase\"] / test[\"# of Website Clicks\"]\n",
    "\n",
    "# Add Cost per Purchase\n",
    "control[\"Cost per Purchase\"] = control[\"Spend [USD]\"] / control[\"# of Purchase\"]\n",
    "test[\"Cost per Purchase\"] = test[\"Spend [USD]\"] / test[\"# of Purchase\"]\n"
   ]
  },
  {
   "cell_type": "markdown",
   "id": "736a586f",
   "metadata": {},
   "source": [
    "### Visualizing the Metrics"
   ]
  },
  {
   "cell_type": "code",
   "execution_count": 8,
   "id": "caabe3a4",
   "metadata": {},
   "outputs": [
    {
     "data": {
      "image/png": "[encoded data removed]",
      "text/plain": [
       "<Figure size 640x480 with 1 Axes>"
      ]
     },
     "metadata": {},
     "output_type": "display_data"
    }
   ],
   "source": [
    "import seaborn as sns\n",
    "import matplotlib.pyplot as plt\n",
    "\n",
    "# CTR comparison\n",
    "sns.barplot(x=[\"Control\", \"Test\"], y=[control[\"CTR\"].mean(), test[\"CTR\"].mean()])\n",
    "plt.title(\"Average Click-Through Rate\")\n",
    "plt.ylabel(\"CTR\")\n",
    "plt.show()\n"
   ]
  },
  {
   "cell_type": "code",
   "execution_count": 9,
   "id": "b7ae4ef3",
   "metadata": {},
   "outputs": [
    {
     "data": {
      "image/png": "[encoded data removed]",
      "text/plain": [
       "<Figure size 640x480 with 1 Axes>"
      ]
     },
     "metadata": {},
     "output_type": "display_data"
    }
   ],
   "source": [
    "import seaborn as sns\n",
    "import matplotlib.pyplot as plt\n",
    "\n",
    "# Conversion rate comparison\n",
    "sns.barplot(x=[\"Control\", \"Test\"], y=[control[\"Conversion Rate\"].mean(), test[\"Conversion Rate\"].mean()])\n",
    "plt.title(\"Average Conversion  Rate\")\n",
    "plt.ylabel(\"Conversion Rate\")\n",
    "plt.show()\n"
   ]
  },
  {
   "cell_type": "code",
   "execution_count": 10,
   "id": "378a0194",
   "metadata": {},
   "outputs": [
    {
     "data": {
      "image/png": "[encoded data removed]",
      "text/plain": [
       "<Figure size 640x480 with 1 Axes>"
      ]
     },
     "metadata": {},
     "output_type": "display_data"
    }
   ],
   "source": [
    "import seaborn as sns\n",
    "import matplotlib.pyplot as plt\n",
    "\n",
    "# Conversion rate comparison\n",
    "sns.barplot(x=[\"Control\", \"Test\"], y=[control[\"Cost per Purchase\"].mean(), test[\"Cost per Purchase\"].mean()])\n",
    "plt.title(\"Average Cost per Purchase\")\n",
    "plt.ylabel(\"Cost per Purchase\")\n",
    "plt.show()\n"
   ]
  },
  {
   "cell_type": "markdown",
   "id": "022e5053",
   "metadata": {},
   "source": [
    "### Metric Comparison and Insights"
   ]
  },
  {
   "cell_type": "markdown",
   "id": "8aa60ffb",
   "metadata": {},
   "source": [
    "| Metric                                   | **Control** | **Test** | 🔍 **Insight**                                                                                            |\n",
    "| ---------------------------------------- | ----------- | -------- | --------------------------------------------------------------------------------------------------------- |\n",
    "| **CTR (Click-Through Rate)**             | `0.051`     | `0.102`  | ✅ **Test campaign doubled the CTR** → more users clicked ads → better ad creatives or audience targeting. |\n",
    "| **Conversion Rate (Purchases / Clicks)** | `11.5%`     | `9.2%`   | ❌ Control had a **stronger conversion rate** → visitors were more likely to buy.                          |\n",
    "| **Cost per Purchase**                    | `$5.05`     | `$5.90`  | ✅ Control was **more cost-effective** in generating actual sales.                                         |\n"
   ]
  },
  {
   "cell_type": "markdown",
   "id": "3689cb82",
   "metadata": {},
   "source": [
    "### Statistical Testing"
   ]
  },
  {
   "cell_type": "code",
   "execution_count": null,
   "id": "24c76331",
   "metadata": {},
   "outputs": [
    {
     "name": "stdout",
     "output_type": "stream",
     "text": [
      "CTR t-test p-value: 0.0003\n",
      "Conversion Rate t-test p-value: 0.1428\n",
      "Cost per Purchase t-test p-value: 0.1946\n"
     ]
    }
   ],
   "source": [
    "\n",
    "control_clean = control.dropna(subset=[\"CTR\", \"Conversion Rate\", \"Cost per Purchase\"])\n",
    "test_clean = test.dropna(subset=[\"CTR\", \"Conversion Rate\", \"Cost per Purchase\"])\n",
    "\n",
    "from scipy.stats import ttest_ind\n",
    "\n",
    "t_stat_ctr, p_val_ctr = ttest_ind(control_clean[\"CTR\"], test_clean[\"CTR\"], equal_var=False)\n",
    "print(f\"CTR t-test p-value: {p_val_ctr:.4f}\")\n",
    "\n",
    "t_stat_conv, p_val_conv = ttest_ind(control_clean[\"Conversion Rate\"], test_clean[\"Conversion Rate\"], equal_var=False)\n",
    "print(f\"Conversion Rate t-test p-value: {p_val_conv:.4f}\")\n",
    "\n",
    "t_stat_cost, p_val_cost = ttest_ind(control_clean[\"Cost per Purchase\"], test_clean[\"Cost per Purchase\"], equal_var=False)\n",
    "print(f\"Cost per Purchase t-test p-value: {p_val_cost:.4f}\")\n"
   ]
  },
  {
   "cell_type": "markdown",
   "id": "734a7df5",
   "metadata": {},
   "source": [
    "#### Insights\n",
    "\n",
    "The Test campaign clearly drives more clicks (better CTR).\n",
    "\n",
    "However, conversion efficiency (purchases per click) and cost per purchase do not differ significantly.\n",
    "\n",
    "So, while the Test campaign attracts more attention, it may not yet translate into more effective sales conversions.\n",
    "\n"
   ]
  },
  {
   "cell_type": "markdown",
   "id": "7f1b1b11",
   "metadata": {},
   "source": [
    "### Chisquare test for purchase count"
   ]
  },
  {
   "cell_type": "code",
   "execution_count": null,
   "id": "4d7ff346",
   "metadata": {},
   "outputs": [
    {
     "name": "stdout",
     "output_type": "stream",
     "text": [
      "Chi-square test p-value: 0.0000\n"
     ]
    }
   ],
   "source": [
    "from scipy.stats import chi2_contingency\n",
    "\n",
    "control_purchases = control[\"# of Purchase\"].sum()\n",
    "control_non_purchases = control[\"# of Impressions\"].sum() - control_purchases\n",
    "\n",
    "test_purchases = test[\"# of Purchase\"].sum()\n",
    "test_non_purchases = test[\"# of Impressions\"].sum() - test_purchases\n",
    "\n",
    "contingency_table = [[control_purchases, control_non_purchases],\n",
    "                     [test_purchases, test_non_purchases]]\n",
    "\n",
    "chi2, p_val_chi, dof, expected = chi2_contingency(contingency_table)\n",
    "print(f\"Chi-square test p-value: {p_val_chi:.4f}\")\n"
   ]
  },
  {
   "cell_type": "markdown",
   "id": "3673d445",
   "metadata": {},
   "source": [
    "#### Insights\n",
    "\n",
    "There is a highly significant difference in purchase counts between the Control and Test groups.\n",
    "\n",
    "The Test campaign increases user engagement and overall sales volume, likely due to more impressions and reach.\n",
    "\n",
    "However, once users click, their likelihood to convert and cost efficiency is about the same.\n",
    "\n",
    "This suggests the Test campaign may be better at top-of-funnel reach and driving volume.\n"
   ]
  },
  {
   "cell_type": "markdown",
   "id": "35478893",
   "metadata": {},
   "source": [
    "### Recommendations\n",
    "\n",
    "Leverage Test Campaign Strengths: The Test campaign's ability to generate more clicks and purchases suggests strong top-of-funnel performance. Continue investing in the Test campaign's creative and targeting strategies to maximize reach and engagement.\n",
    "\n",
    "Improve Post-Click Experience: Since conversion rates per click did not significantly improve, focus on optimizing the website or landing page experience to increase purchase conversion. A/B testing landing pages or streamlining the checkout process may help.\n",
    "\n",
    "Analyze Segment Performance: Investigate whether certain user segments or channels perform better in the Test campaign to further refine targeting and resource allocation.\n",
    "\n",
    "Monitor Cost Efficiency: Although cost per purchase was not significantly different, ongoing monitoring is recommended to maintain or improve cost-effectiveness as campaign spend scales.\n"
   ]
  }
 ],
 "metadata": {
  "kernelspec": {
   "display_name": "Python 3",
   "language": "python",
   "name": "python3"
  },
  "language_info": {
   "codemirror_mode": {
    "name": "ipython",
    "version": 3
   },
   "file_extension": ".py",
   "mimetype": "text/x-python",
   "name": "python",
   "nbconvert_exporter": "python",
   "pygments_lexer": "ipython3",
   "version": "3.12.11"
  }
 },
 "nbformat": 4,
 "nbformat_minor": 5
}
